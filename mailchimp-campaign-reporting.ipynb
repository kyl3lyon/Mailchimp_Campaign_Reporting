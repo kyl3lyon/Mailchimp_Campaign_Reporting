{
 "cells": [
  {
   "cell_type": "code",
   "execution_count": null,
   "id": "e5707afd",
   "metadata": {},
   "outputs": [],
   "source": [
    "%%sh\n",
    "\n",
    "dc=\"SERVER PREFIX GOES HERE\"\n",
    "apikey=\"API KEY GOES HERE\"\n",
    "\n",
    "curl -sS \\\n",
    "  \"https://${dc}.api.mailchimp.com/3.0/ping\" \\\n",
    "  --user \"anystring:${apikey}\" | jq -r"
   ]
  },
  {
   "cell_type": "code",
   "execution_count": null,
   "id": "1ee649f1",
   "metadata": {},
   "outputs": [],
   "source": [
    "f = open(\"reports.json\", \"w\")"
   ]
  },
  {
   "cell_type": "code",
   "execution_count": null,
   "id": "014b5d8c",
   "metadata": {},
   "outputs": [],
   "source": [
    "%%sh\n",
    "\n",
    "dc=\"SERVER PREFIX GOES HERE\"\n",
    "apikey=\"API KEY GOES HERE\"\n",
    "\n",
    "curl -X GET \\\n",
    "  \"https://${dc}.api.mailchimp.com/3.0/reports?&count=100&offset=0\" \\\n",
    "  --user \"anystring:${apikey}\" -o reports.json"
   ]
  },
  {
   "cell_type": "code",
   "execution_count": null,
   "id": "cc6870c7",
   "metadata": {},
   "outputs": [],
   "source": [
    "import json\n",
    "\n",
    "with open('reports.json') as reports_file:\n",
    "    data = json.load(reports_file)\n",
    "\n",
    "    print(\"Type:\", type(data))"
   ]
  },
  {
   "cell_type": "code",
   "execution_count": null,
   "id": "d1dd3ce0",
   "metadata": {},
   "outputs": [],
   "source": [
    "import pandas as pd\n",
    "def data_to_pandas():\n",
    "    \n",
    "    df = pd.DataFrame(columns=['id', 'send_time','campaign_title', 'type', 'list_name', 'subject_line', \n",
    "                               'preview_text', 'emails_sent', 'abuse_reports', 'unsubscribed', \n",
    "                               'hard_bounces', 'soft_bounces', 'syntax_errors', 'forwards_count',\n",
    "                               'forwards_opens', 'opens_total', 'unique_opens', 'open_rate',\n",
    "                               'clicks_total', 'unique_clicks', 'unique_subscriber_clicks', \n",
    "                               'click_rate', 'list_sub_rate', 'list_unsub_rate', 'list_open_rate', \n",
    "                               'list_click_rate', 'total_orders', 'total_revenue'\n",
    "                              ])\n",
    "    \n",
    "    if data:\n",
    "        for report in data['reports']: \n",
    "            row = {\n",
    "                'id': report.get('id'),\n",
    "                'send_time': report.get('send_time'),                \n",
    "                'campaign_title': report.get('campaign_title'),\n",
    "                'type': report.get('type'),\n",
    "                'list_name': report.get('list_name'),\n",
    "                'subject_line': report.get('subject_line'),\n",
    "                'preview_text': report.get('preview_text'),\n",
    "                'emails_sent': report.get('emails_sent'),\n",
    "                'abuse_reports': report.get('abuse_reports'),\n",
    "                'unsubscribed': report.get('unsubscribed'),\n",
    "                'hard_bounces': report.get('bounces').get('hard_bounces'),\n",
    "                'soft_bounces': report.get('bounces').get('soft_bounces'),\n",
    "                'syntax_errors': report.get('syntax_errors'),\n",
    "                'forwards_count': report.get('forwards').get('forwards_count'),\n",
    "                'forwards_opens': report.get('forwards').get('forwards_opens'),\n",
    "                'opens_total': report.get('opens').get('opens_total'),\n",
    "                'unique_opens': report.get('opens').get('unique_opens'),\n",
    "                'open_rate': report.get('opens').get('open_rate'),\n",
    "                'clicks_total': report.get('clicks').get('clicks_total'),\n",
    "                'unique_clicks': report.get('clicks').get('unique_clicks'),\n",
    "                'unique_subscriber_clicks': report.get('clicks').get('unique_subscriber_clicks'),\n",
    "                'click_rate': report.get('clicks').get('click_rate'),\n",
    "                'list_sub_rate': report.get('list_stats').get('sub_rate'),\n",
    "                'list_unsub_rate': report.get('list_stats').get('unsub_rate'),\n",
    "                'list_open_rate': report.get('list_stats').get('open_rate'),\n",
    "                'list_click_rate': report.get('list_stats').get('click_rate'),\n",
    "                'total_orders': report.get('ecommerce').get('total_orders'),\n",
    "                'total_revenue': report.get('ecommerce').get('total_revenue'),\n",
    "            }\n",
    "            \n",
    "            df = df.append(row, ignore_index='True')\n",
    "        \n",
    "        df = df.fillna(0)\n",
    "            \n",
    "        for col in ['emails_sent', 'abuse_reports', 'unsubscribed', \n",
    "                    'hard_bounces', 'soft_bounces', 'syntax_errors',\n",
    "                    'forwards_count', 'forwards_opens', 'opens_total', \n",
    "                    'unique_opens', 'open_rate', 'clicks_total', \n",
    "                    'unique_clicks', 'unique_subscriber_clicks', 'click_rate',\n",
    "                    'list_sub_rate', 'list_unsub_rate', 'list_unsub_rate', \n",
    "                    'list_open_rate', 'list_click_rate', 'total_orders']:\n",
    "            df[col] = df[col].astype(int)\n",
    "            \n",
    "        df['total_revenue'] = df['total_revenue'].astype(float)\n",
    "        \n",
    "    return df"
   ]
  },
  {
   "cell_type": "code",
   "execution_count": null,
   "id": "7a35eec4",
   "metadata": {},
   "outputs": [],
   "source": [
    "df = data_to_pandas()\n",
    "# df = df.loc[df['list_name'] == \"YOUR AUDIENCE NAME\"].reset_index(drop=True)\n",
    "df.head()"
   ]
  },
  {
   "cell_type": "code",
   "execution_count": null,
   "id": "cd7cc980",
   "metadata": {},
   "outputs": [],
   "source": [
    "import datetime as dt\n",
    "df['send_time'] = pd.to_datetime(df['send_time'], format=\"%Y-%m-%dT%H:%M:%S.%f\").dt.date\n",
    "display(df)"
   ]
  },
  {
   "cell_type": "code",
   "execution_count": null,
   "id": "87e348e3",
   "metadata": {},
   "outputs": [],
   "source": [
    "per = df[[\"send_time\",\"subject_line\", \"emails_sent\", \"unique_opens\", \n",
    "                          \"unique_subscriber_clicks\", \"unsubscribed\",\"soft_bounces\",\"hard_bounces\"]].copy()\n",
    "per.head()"
   ]
  },
  {
   "cell_type": "code",
   "execution_count": null,
   "id": "bc7168ba",
   "metadata": {},
   "outputs": [],
   "source": [
    "facts = pd.DataFrame([per[\"send_time\"], per[\"subject_line\"], per[\"emails_sent\"]]).copy().transpose()\n",
    "facts.head()"
   ]
  },
  {
   "cell_type": "code",
   "execution_count": null,
   "id": "951c9789",
   "metadata": {},
   "outputs": [],
   "source": [
    "kpis = {\"OR\": per[\"unique_opens\"]/per[\"emails_sent\"],\n",
    "           \"CTR\": per[\"unique_subscriber_clicks\"]/per[\"emails_sent\"],\n",
    "           \"CTOR\": per[\"unique_subscriber_clicks\"]/per[\"unique_opens\"],\n",
    "           \"SBR\": per[\"soft_bounces\"]/per[\"emails_sent\"],\n",
    "           \"HBR\": per[\"hard_bounces\"]/per[\"emails_sent\"],\n",
    "           \"UR\": per[\"unsubscribed\"]/per[\"emails_sent\"]}\n",
    "kpis = pd.DataFrame(kpis)\n",
    "pd.options.display.float_format = '{:.1%}'.format\n",
    "kpis.head()"
   ]
  },
  {
   "cell_type": "code",
   "execution_count": null,
   "id": "5a7de76d",
   "metadata": {},
   "outputs": [],
   "source": [
    "mr = pd.concat([facts, kpis], axis=1)\n",
    "mr.set_index('send_time')"
   ]
  },
  {
   "cell_type": "code",
   "execution_count": null,
   "id": "5bcf46b2",
   "metadata": {},
   "outputs": [],
   "source": [
    "filename = 'mc_report_'+str(dt.datetime.now().date())+'.xlsx'\n",
    "mr.to_excel(filename, sheet_name='data')\n",
    "print(filename)"
   ]
  },
  {
   "cell_type": "code",
   "execution_count": null,
   "id": "ebb92e7e",
   "metadata": {
    "scrolled": false
   },
   "outputs": [],
   "source": [
    "import matplotlib.pyplot as plt\n",
    "\n",
    "plt.figure(figsize=(23,10))\n",
    "\n",
    "date = mr[\"send_time\"]\n",
    "open_rate = mr[\"OR\"]\n",
    "click_to_open_rate = mr[\"CTOR\"]\n",
    "click_rate = mr[\"CTR\"]\n",
    "unsubscribe_rate = mr[\"UR\"]\n",
    "\n",
    "ax1 = plt.plot(date, open_rate, color='red', marker='o', label=\"open rate\")\n",
    "ax2 = plt.plot(date, click_to_open_rate, color='blue', marker='o', label=\"click to open rate\")\n",
    "ax3 = plt.plot(date, click_rate, color='green', marker='o', label=\"click rate\")\n",
    "ax4 = plt.plot(date, unsubscribe_rate, color='grey', marker='o', label=\"unsubscribe rate\")\n",
    "\n",
    "plt.title('Email Campaign Performance Chart', fontsize=20)\n",
    "plt.xlabel('Email Send Date', fontsize=16)\n",
    "plt.ylabel('Performance Rate (%)', fontsize=16)\n",
    "plt.legend()\n",
    "plt.grid(True)\n",
    "\n",
    "plt.show()"
   ]
  }
 ],
 "metadata": {
  "kernelspec": {
   "display_name": "Python 3",
   "language": "python",
   "name": "python3"
  },
  "language_info": {
   "codemirror_mode": {
    "name": "ipython",
    "version": 3
   },
   "file_extension": ".py",
   "mimetype": "text/x-python",
   "name": "python",
   "nbconvert_exporter": "python",
   "pygments_lexer": "ipython3",
   "version": "3.8.8"
  }
 },
 "nbformat": 4,
 "nbformat_minor": 5
}
